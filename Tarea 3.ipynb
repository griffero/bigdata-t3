{
 "cells": [
  {
   "cell_type": "markdown",
   "metadata": {},
   "source": [
    "# Almacenamiento y procesamiento masivo de datos - Tarea 3 "
   ]
  },
  {
   "cell_type": "markdown",
   "metadata": {},
   "source": [
    "**Universidad de los Andes**\n",
    "\n",
    "**Profesor:** Ignacio Perez<br>\n",
    "**Alumno:** Cristóbal Griffero C."
   ]
  },
  {
   "cell_type": "markdown",
   "metadata": {},
   "source": [
    "### Objetivo\n",
    "\n",
    "La tarea tres tiene por objetivo profundizar en el uso de notebooks y visualización de datos. Se utilizó el dataset de yelp."
   ]
  },
  {
   "cell_type": "markdown",
   "metadata": {},
   "source": [
    "### Preparación\n",
    "\n",
    "En primer lugar, fue necesario realizar un pre-calculo con [mrjob](https://github.com/Yelp/mrjob) sobre el dataset. El pre-calculo se realizó con el objetivo de obtener un archivo CSV donde se puede encontrar una lista que contiene todos los reviews y la nota para cada categoría. Por ejemplo, el review 4w_BjjcpK8aNx5zbSzyedw se hizo sobre el establecimiento iFEiMJoEqyB9O8OUNSdLzA. A su vez, las categorias de dicho establecimiento son Pubs, Restaurants y Nightlife. El review tiene una calificación de 4 estrellas por lo que esto se transforma en una valoración de 4 estrellas para Pubs, Restaurants y Nightlife. El archivo CSV tiene el siguiente formato:\n",
    "\n",
    "review_id,category,stars<br>\n",
    "2aAE1ZVDqMgFDakrl7iRAw,Arts & Entertainment,5<br>\n",
    "2aAE1ZVDqMgFDakrl7iRAw,Shopping,5<br>\n",
    "2aAE1ZVDqMgFDakrl7iRAw,Museums,5<br>\n",
    "2aAE1ZVDqMgFDakrl7iRAw,Art Galleries,5<br>\n",
    "4OADaU5e2p63-bSPqtyc7w,Arts & Entertainment,3<br>\n",
    "4OADaU5e2p63-bSPqtyc7w,Shopping,3<br>\n",
    "4OADaU5e2p63-bSPqtyc7w,Museums,3<br>\n",
    "..."
   ]
  },
  {
   "cell_type": "markdown",
   "metadata": {},
   "source": [
    "## Preguntas\n",
    "\n",
    "### P1\n",
    "\n",
    "**Visualizar la distribución de las estrellas recibidas por todos los restaurantes en cada categoría.**\n",
    "\n",
    "En primer lugar, utilizando [pandas](http://pandas.pydata.org), se leyeron los datos desde el CSV generado."
   ]
  },
  {
   "cell_type": "code",
   "execution_count": 1,
   "metadata": {},
   "outputs": [],
   "source": [
    "import pandas as pd\n",
    "\n",
    "data = pd.read_csv('jupyter.csv', sep=',', header=0)"
   ]
  },
  {
   "cell_type": "markdown",
   "metadata": {},
   "source": [
    "Posteriormente, se obtuvo una lista con todas las categorias que fueron sujetas a algún tipo de review."
   ]
  },
  {
   "cell_type": "code",
   "execution_count": 2,
   "metadata": {},
   "outputs": [
    {
     "name": "stdout",
     "output_type": "stream",
     "text": [
      "['Arts & Entertainment', 'Shopping', 'Museums', 'Art Galleries', 'Food', 'Restaurants', 'Chinese', 'Department Stores', 'Fashion', 'Pubs', 'Bars', 'Nightlife', 'American (New)', 'Waxing', 'Hair Removal', 'Hair Salons', 'Beauty & Spas', 'Hair Stylists', 'Vegetarian', 'Vegan', 'Kosher', 'Japanese', 'Sushi Bars', 'Dive Bars', 'Automotive', 'Car Dealers', 'Laser Eye Surgery/Lasik', 'Health & Medical', 'Eyewear & Opticians', 'Optometrists', 'Real Estate Agents', 'Home Services', 'Real Estate Services', 'Real Estate', 'Education', 'Elementary Schools', 'Solar Installation', 'Professional Services', 'Marketing', 'Active Life', 'Escape Games', 'Toy Stores', 'Music & DVDs', 'Bookstores', 'Books', 'Mags', 'Music & Video', 'Coffee & Tea', 'Cafes', 'Italian', 'Cosmetics & Beauty Supply', 'Bridal', 'Caterers', 'Event Planning & Services', 'Health Markets', 'Specialty Food', 'Venues & Event Spaces', 'Breweries', 'German', 'Bakeries', 'Desserts', 'Tattoo', 'Skin Care', 'Eyelash Service', 'Permanent Makeup', 'Printing Services', 'Arts & Crafts', 'Framing', 'Local Services', 'Glass & Mirrors', 'Tires', 'Auto Repair', 'Makeup Artists', 'Canadian (New)', 'Steakhouses', 'American (Traditional)', 'Shopping Centers', 'Seafood', 'Cajun/Creole', 'Custom Cakes', 'Cupcakes', 'Patisserie/Cake Shop', 'Gluten-Free', 'Korean', 'Barbeque', 'Sandwiches', 'Chicken Wings', 'Pizza', 'Veterinarians', 'Pet Stores', 'Pets', 'Shoe Repair', 'Asian Fusion', 'Noodles', 'Middle Eastern', 'Mediterranean', 'Turkish', 'Kebab', 'Mexican', 'Breakfast & Brunch', 'IT Services & Computer Repair', 'Computers', 'Data Recovery', 'Ice Cream & Frozen Yogurt', 'Salad', 'Baby Gear & Furniture', 'Lounges', 'Wine Bars', 'Gastropubs', 'Grocery', 'Flowers & Gifts', 'Drugstores', 'Dim Sum', 'Laundry Services', 'Dry Cleaning & Laundry', 'Electronics', 'Contractors', 'Home Theatre Installation', 'TV Mounting', 'Shades & Blinds', 'Security Systems', 'Home Automation', 'Convenience Stores', 'Gas Stations', 'Beer', 'Wine & Spirits', 'Hotels & Travel', 'Tours', 'Psychics & Astrologers', 'Amusement Parks', 'Burgers', 'Chocolatiers & Shops', 'Language Schools', 'Specialty Schools', 'Fast Food', 'Session Photography', 'Event Photography', 'Photographers', 'Sports Bars', 'Massage', 'Day Spas', 'Massage Therapy', 'Seafood Markets', 'Ethnic Food', 'Meat Shops', 'Fruits & Veggies', 'Bed & Breakfast', 'Guest Houses', 'Casinos', 'Hotels', 'Nail Salons', 'Gyms', 'Fitness & Instruction', 'Food Stands', 'Golf', 'Sporting Goods', 'Child Care & Day Care', 'Educational Services', 'Preschools', 'Himalayan/Nepalese', 'Indian', 'Resorts', 'Mobile Phones', 'Mobile Phone Repair', 'Hot Dogs', 'Middle Schools & High Schools', 'Cosmetology Schools', 'Tanning', 'Teeth Whitening', 'Chiropractors', 'Juice Bars & Smoothies', 'Barbers', 'Physical Therapy', 'British', 'Wedding Planning', 'Health Retreats', 'Yoga', 'Oil Change Stations', \"Men's Clothing\", \"Women's Clothing\", 'Sports Wear', 'Bikes', 'Dance Studios', 'Accessories', 'Hats', 'Ramen', 'Bagels', 'Delis', 'Cocktail Bars', 'Soup', 'French', 'Appliances', 'Home & Garden', 'Hostels', 'Rehabilitation Center', 'Skilled Nursing', 'Party & Event Planning', 'Nail Technicians', 'Party Bus Rentals', 'Transportation', 'Limos', 'Airport Shuttles', 'Taxis', 'Oriental', 'Doctors', 'Cosmetic Dentists', 'Dentists', 'Periodontists', 'General Dentistry', 'Performing Arts', 'Brasseries', 'Latin American', 'Tacos', 'Podiatrists', 'Pet Services', 'Pet Groomers', 'Pet Boarding/Pet Sitting', 'Diners', 'Ear Nose & Throat', 'Peruvian', 'Pool Halls', 'Modern European', 'Reiki', 'Kitchen & Bath', 'Distilleries', 'Used', 'Vintage & Consignment', 'Furniture Stores', 'Home Decor', 'Greek', 'Home Inspectors', 'Apartments', 'Jazz & Blues', 'Soul Food', 'Skating Rinks', 'Tennis', 'Antiques', 'Solar Panel Cleaning', 'Window Washing', 'Gutter Services', 'Pool Cleaners', 'Caribbean', 'Office Equipment', 'Outdoor Furniture Stores', 'Fish & Chips', 'Donuts', 'Tapas Bars', 'Videographers', 'Photography Stores & Services', 'Poutineries']\n"
     ]
    }
   ],
   "source": [
    "categories = []\n",
    "for review in  data.values:\n",
    "    if review[1] not in categories:\n",
    "        categories.append(review[1])\n",
    "        \n",
    "print categories"
   ]
  },
  {
   "cell_type": "markdown",
   "metadata": {},
   "source": [
    "Con la ayuda de [widgets](http://jupyter.org/widgets.html), se creó un dropdown con el objetivo de poder seleccionar la categoría a visualizar."
   ]
  },
  {
   "cell_type": "code",
   "execution_count": 3,
   "metadata": {},
   "outputs": [],
   "source": [
    "import ipywidgets as widgets"
   ]
  },
  {
   "cell_type": "code",
   "execution_count": 4,
   "metadata": {},
   "outputs": [
    {
     "data": {
      "application/vnd.jupyter.widget-view+json": {
       "model_id": "8e43552d47f34246b7104556502d6c27",
       "version_major": 2,
       "version_minor": 0
      },
      "text/html": [
       "<p>Failed to display Jupyter Widget of type <code>Dropdown</code>.</p>\n",
       "<p>\n",
       "  If you're reading this message in Jupyter Notebook or JupyterLab, it may mean\n",
       "  that the widgets JavaScript is still loading. If this message persists, it\n",
       "  likely means that the widgets JavaScript library is either not installed or\n",
       "  not enabled. See the <a href=\"https://ipywidgets.readthedocs.io/en/stable/user_install.html\">Jupyter\n",
       "  Widgets Documentation</a> for setup instructions.\n",
       "</p>\n",
       "<p>\n",
       "  If you're reading this message in another notebook frontend (for example, a static\n",
       "  rendering on GitHub or <a href=\"https://nbviewer.jupyter.org/\">NBViewer</a>),\n",
       "  it may mean that your frontend doesn't currently support widgets.\n",
       "</p>\n"
      ],
      "text/plain": [
       "Dropdown(options=('Arts & Entertainment', 'Shopping', 'Museums', 'Art Galleries', 'Food', 'Restaurants', 'Chinese', 'Department Stores', 'Fashion', 'Pubs', 'Bars', 'Nightlife', 'American (New)', 'Waxing', 'Hair Removal', 'Hair Salons', 'Beauty & Spas', 'Hair Stylists', 'Vegetarian', 'Vegan', 'Kosher', 'Japanese', 'Sushi Bars', 'Dive Bars', 'Automotive', 'Car Dealers', 'Laser Eye Surgery/Lasik', 'Health & Medical', 'Eyewear & Opticians', 'Optometrists', 'Real Estate Agents', 'Home Services', 'Real Estate Services', 'Real Estate', 'Education', 'Elementary Schools', 'Solar Installation', 'Professional Services', 'Marketing', 'Active Life', 'Escape Games', 'Toy Stores', 'Music & DVDs', 'Bookstores', 'Books', 'Mags', 'Music & Video', 'Coffee & Tea', 'Cafes', 'Italian', 'Cosmetics & Beauty Supply', 'Bridal', 'Caterers', 'Event Planning & Services', 'Health Markets', 'Specialty Food', 'Venues & Event Spaces', 'Breweries', 'German', 'Bakeries', 'Desserts', 'Tattoo', 'Skin Care', 'Eyelash Service', 'Permanent Makeup', 'Printing Services', 'Arts & Crafts', 'Framing', 'Local Services', 'Glass & Mirrors', 'Tires', 'Auto Repair', 'Makeup Artists', 'Canadian (New)', 'Steakhouses', 'American (Traditional)', 'Shopping Centers', 'Seafood', 'Cajun/Creole', 'Custom Cakes', 'Cupcakes', 'Patisserie/Cake Shop', 'Gluten-Free', 'Korean', 'Barbeque', 'Sandwiches', 'Chicken Wings', 'Pizza', 'Veterinarians', 'Pet Stores', 'Pets', 'Shoe Repair', 'Asian Fusion', 'Noodles', 'Middle Eastern', 'Mediterranean', 'Turkish', 'Kebab', 'Mexican', 'Breakfast & Brunch', 'IT Services & Computer Repair', 'Computers', 'Data Recovery', 'Ice Cream & Frozen Yogurt', 'Salad', 'Baby Gear & Furniture', 'Lounges', 'Wine Bars', 'Gastropubs', 'Grocery', 'Flowers & Gifts', 'Drugstores', 'Dim Sum', 'Laundry Services', 'Dry Cleaning & Laundry', 'Electronics', 'Contractors', 'Home Theatre Installation', 'TV Mounting', 'Shades & Blinds', 'Security Systems', 'Home Automation', 'Convenience Stores', 'Gas Stations', 'Beer', 'Wine & Spirits', 'Hotels & Travel', 'Tours', 'Psychics & Astrologers', 'Amusement Parks', 'Burgers', 'Chocolatiers & Shops', 'Language Schools', 'Specialty Schools', 'Fast Food', 'Session Photography', 'Event Photography', 'Photographers', 'Sports Bars', 'Massage', 'Day Spas', 'Massage Therapy', 'Seafood Markets', 'Ethnic Food', 'Meat Shops', 'Fruits & Veggies', 'Bed & Breakfast', 'Guest Houses', 'Casinos', 'Hotels', 'Nail Salons', 'Gyms', 'Fitness & Instruction', 'Food Stands', 'Golf', 'Sporting Goods', 'Child Care & Day Care', 'Educational Services', 'Preschools', 'Himalayan/Nepalese', 'Indian', 'Resorts', 'Mobile Phones', 'Mobile Phone Repair', 'Hot Dogs', 'Middle Schools & High Schools', 'Cosmetology Schools', 'Tanning', 'Teeth Whitening', 'Chiropractors', 'Juice Bars & Smoothies', 'Barbers', 'Physical Therapy', 'British', 'Wedding Planning', 'Health Retreats', 'Yoga', 'Oil Change Stations', \"Men's Clothing\", \"Women's Clothing\", 'Sports Wear', 'Bikes', 'Dance Studios', 'Accessories', 'Hats', 'Ramen', 'Bagels', 'Delis', 'Cocktail Bars', 'Soup', 'French', 'Appliances', 'Home & Garden', 'Hostels', 'Rehabilitation Center', 'Skilled Nursing', 'Party & Event Planning', 'Nail Technicians', 'Party Bus Rentals', 'Transportation', 'Limos', 'Airport Shuttles', 'Taxis', 'Oriental', 'Doctors', 'Cosmetic Dentists', 'Dentists', 'Periodontists', 'General Dentistry', 'Performing Arts', 'Brasseries', 'Latin American', 'Tacos', 'Podiatrists', 'Pet Services', 'Pet Groomers', 'Pet Boarding/Pet Sitting', 'Diners', 'Ear Nose & Throat', 'Peruvian', 'Pool Halls', 'Modern European', 'Reiki', 'Kitchen & Bath', 'Distilleries', 'Used', 'Vintage & Consignment', 'Furniture Stores', 'Home Decor', 'Greek', 'Home Inspectors', 'Apartments', 'Jazz & Blues', 'Soul Food', 'Skating Rinks', 'Tennis', 'Antiques', 'Solar Panel Cleaning', 'Window Washing', 'Gutter Services', 'Pool Cleaners', 'Caribbean', 'Office Equipment', 'Outdoor Furniture Stores', 'Fish & Chips', 'Donuts', 'Tapas Bars', 'Videographers', 'Photography Stores & Services', 'Poutineries'), value='Arts & Entertainment')"
      ]
     },
     "metadata": {},
     "output_type": "display_data"
    }
   ],
   "source": [
    "selection = widgets.Dropdown(\n",
    "    options=categories\n",
    ")\n",
    "\n",
    "display(selection)"
   ]
  },
  {
   "cell_type": "markdown",
   "metadata": {},
   "source": [
    "## Visualización\n",
    "\n",
    "En primer lugar, se busca en el dataset los reviews de la categoría seleccionada"
   ]
  },
  {
   "cell_type": "code",
   "execution_count": 5,
   "metadata": {},
   "outputs": [],
   "source": [
    "values = []\n",
    "for review in  data.values:\n",
    "    if review[1] == selection.value:\n",
    "        values.append(review[2])"
   ]
  },
  {
   "cell_type": "markdown",
   "metadata": {},
   "source": [
    "Para la visualización de la distribución de estrellas por categoría, se utilizó [lightning](http://lightning-viz.org). Con el uso de esta herramienta se creó un histograma capaz de representar la distribución según la categoría seleccionada."
   ]
  },
  {
   "cell_type": "code",
   "execution_count": 6,
   "metadata": {},
   "outputs": [
    {
     "data": {
      "text/html": [
       "<div style='margin-top:8px'><img src='data:image/png;base64,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' width='30px' height='35px' style='display: inline-block; padding-right: 10px'></img><span>Lightning initialized</span></div>"
      ],
      "text/plain": [
       "<IPython.core.display.HTML object>"
      ]
     },
     "metadata": {},
     "output_type": "display_data"
    },
    {
     "name": "stdout",
     "output_type": "stream",
     "text": [
      "Connected to server at http://public.lightning-viz.org\n"
     ]
    },
    {
     "data": {
      "application/javascript": [
       "(function e(t,n,r){function s(o,u){if(!n[o]){if(!t[o]){var a=typeof require==\"function\"&&require;if(!u&&a)return a(o,!0);if(i)return i(o,!0);throw new Error(\"Cannot find module '\"+o+\"'\")}var f=n[o]={exports:{}};t[o][0].call(f.exports,function(e){var n=t[o][1][e];return s(n?n:e)},f,f.exports,e,t,n,r)}return n[o].exports}var i=typeof require==\"function\"&&require;for(var o=0;o<r.length;o++)s(r[o]);return s})({1:[function(require,module,exports){\n",
       "window.lightning = window.lightning || {};\n",
       "var lightningCommMap = {};\n",
       "var IPython = window.IPython;\n",
       "\n",
       "var readCommData = function(commData, field) {\n",
       "    try {\n",
       "        return commData.content.data[field];\n",
       "    } catch (err) {\n",
       "        return;\n",
       "    }\n",
       "};\n",
       "\n",
       "\n",
       "var init_comm = function() {\n",
       "    IPython.notebook.kernel.comm_manager.register_target('lightning', function(comm, data) {\n",
       "        var id = readCommData(data, 'id');\n",
       "        lightningCommMap[id] = comm;\n",
       "    });\n",
       "\n",
       "    window.lightning.comm_map = lightningCommMap;\n",
       "}\n",
       "\n",
       "\n",
       "if(IPython && IPython.notebook) {\n",
       "\n",
       "    if(IPython.notebook.kernel) {\n",
       "        init_comm();\n",
       "    }\n",
       "\n",
       "    IPython.notebook.events.on('kernel_connected.Kernel', init_comm);\n",
       "\n",
       "}\n",
       "\n",
       "\n",
       "},{}]},{},[1])\n",
       "//# sourceMappingURL=data:application/json;base64,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\n"
      ],
      "text/plain": [
       "<IPython.core.display.Javascript object>"
      ]
     },
     "metadata": {},
     "output_type": "display_data"
    },
    {
     "name": "stderr",
     "output_type": "stream",
     "text": [
      "/usr/local/lib/python2.7/site-packages/IPython/kernel/__init__.py:13: ShimWarning: The `IPython.kernel` package has been deprecated since IPython 4.0.You should import from ipykernel or jupyter_client instead.\n",
      "  \"You should import from ipykernel or jupyter_client instead.\", ShimWarning)\n"
     ]
    },
    {
     "data": {
      "text/html": [
       "<meta name=\"viewport\" content=\"width=device-width, initial-scale=1, maximum-scale=1\"/><meta http-equiv=\"X-UA-Compatible\" content=\"IE=10; IE=9; IE=8; IE=7; IE=EDGE\"/><meta charset=\"UTF-8\"/><link href=\"//fonts.googleapis.com/css?family=Open+Sans:400,700\" rel=\"stylesheet\" type=\"text/css\"/><link rel=\"stylesheet\" href=\"http://public.lightning-viz.org/css/app.css\"/><div id=\"lightning-body\" class=\"container content wrap push\"><div class=\"feed-container\"><div data-model=\"visualization\" data-model-id=\"ac53e309-50df-4011-887c-b5d684437235\" class=\"feed-item-container\"><div data-type=\"lightning-histogram\" data-data=\"{&quot;values&quot;:[5,3,4,4,2,3,4,3,2,2,4,2,3,5,4,2,4,5,4,4,1,5,4,4,2,5,4,1,2,2,2,4,2,4,5,3,4,5,5,2,2,2,3,4,3,5,3,2,2,4,3,3,4,3,4,4,5,4,2,3,5,3,4,2,4,2,2,1,2,2,3,4,4,4,4,2,4,5,3,4,5,5,5,5,4,5,5,5,2,5,5,2,5,5,5,5,5,5,5,4,4,1,5,4,1,5,5,4,4,3,4,3,3,5,5,4,3,5,2,3,5,5,4,5,5,4,4,5,4,1,3,5,5,5,5,4,5,3,1,4,5,5,3,1,5,4,4,4,1,3,5,2,4,4,3,3,5,3,4,4,4,5,5,5,3,4,5,3,4,4,4,3,5,3,4,3,5,3,4,5,5,5,5,5,5,4,3,5,1,4,5,3,4,5,5,5,3,3,5,5,5,5,4,4,3,3,4,3,5,4,5,5,5,4,4,3,2,5,5,5,5,4,4,4,4,5,5,4,5,5,1,4,4,5,1,4,5,1,3,4,5,5,3,4,4,5,4,5,4,4,5,5,4,4,5,4,5,5,5,3,3,3,5,4,3,5,3,5,2,1,4,5,5,4,4,3,5,5,4,5,4,5,4,5,1,4,4,3,5,5,5,4,2,3,5,5,3,1,4,4,5,5,3,4,4,5,5,4,1,4,5,4,4,4,5,1,5,3,5,4,5,1,5,3,4,3,4,5,5,4,5,2,4,3,3,1,5,1,3,5,5,3,4,5,4,5,4,5,5,4,5,4,4,1,3,3,4,5,5,5,5,4,4,4,5,4,4,5,5,2,4,5,5,4,5,5,4,1,5,4,4,5,5,3,5,4,5,4,3,4,5,5,4,5,5,5,5,5,5,3,5,5,3,4,3,3,3,4,4,5,4,5,4,4,4,5,4,3,5,1,4,5,5,5,3,3,1,5,4,1,4,5,5,3,1,5,1,4,5,2,5,5,3,5,3,3,5,5,4,3,5,4,4,5,4,4,1,5,5,5,2,3,4,4,4,3,3,4,4,3,4,4,4,5,2,3,1,3,5,4,4,5,2,4,3,3,5,4,1,4,4,5,5,2,4,4,4,4,4,5,5,5,5,1,5,4,5,4,5,5,4,4,4,4,4,5,5,5,4,4,5,5,4,5,5,5,4,5,4,4,4,5,3,4,5,4,3,4,4,3,4,4,5,5,4,5,5,4,5,4,4,5,5,5,4,5,4,2,5,5,5,4,3,5,5,4,5,4,2,4,3,5,5,4,4,5,3,5,5,5,5,5,3,3,3,5,3,1,5,4,5,5,4,1,5,5,4,3,5,4,2,3,3,5,5,4,4,4,5,4,5,5,1,4,1,5,4,3,4,3,1,4,3,5,1,3,4,5,3,5,5,5,4,5,4,5,4,5,4,4,4,4,5,5,4,4,5,5,4,4,5,4,4,1,5,4,5,4,5,5,4,3,4,5,4,3,5,2,5,5,5,4,5,4,4,2,5,5,4,5,5,1,4,4,5,5,4,3,4,1,5,2,4,4,5,5,5,5,3,5,1,3,4,4,3,5,5,4,4,2,3,2,4,5,2,3,5,3,5,3,5,5,5,4,5,5,3,4,5,5,5,3,4,5,5,4,5,1,5,3,5,3,5,3,2,5,5,4,4,4,3,5,4,5,5,4,2,4,4,4,4,5,4,5,5,3,3,5,5,4,2,4,5,4,4,4,3,5,2,5,5,5,4,4,4,4,4,4,1,5,4,1,5,4,4,5,4,4,4,5,2,3,3,4,5,1,4,4,4,3,2,5,3,5,5,2,4,3,5,5,5,5,3,5,5,1,1,4,5,5,3,5,4,4,5,4,5,2,5,5,5,5,4,4,3,3,5,5,3,4,1,3,2,5,4,5,4,1,5,5,5,5,4,5,5,2,5,4,5,1,4,4,4,5,4,5,4,5,3,5,4,5,4,2,5,5,5,3,4,5,5,4,5,5,3,5,5,4,5,5,2,4,5,5,5,5,4,1,4,5,4,4,3,4,5,5,3,5,1,4,4,4,4,3,4,5,5,1,2,5,4,5,5,5,4,5,5,5,4,4,5,3,4,5,4,3,4,5,4,2,5,4,4,4,5,4,4,4,4,4,5,4,5,3,4,4,4,4,5,4,5,4,5,3,4,5,5,4,4,4,5,5,4,4,5,4,5,3,5,5,4,5,4,2,3,3,3,1,4,5,5,1,3,5,5,1,4,5,5,4,4,5,4,5,5,4,5,5,4,4,2,5,5,4,5,5,5,4,4,5,4,5,5,4,4,4,4,4,5,1,4,3,3,3,5,1,4,5,3,5,5,4,2,4,5,3,5,5,3,4,2,1,1,5,4,4,4,4,5,5,5,2,5,4,4,5,5,4,5,4,2,4,2,1,5,5,1,5,4,5,5,1,3,4,3,4,4,3,5,5,4,5,4,5,4,5,2,5,5,3,4,4,4,3,2,2,5,3,3,5,5,5,5,3,4,3,5,5,5,5,5,4,4,5,4,5,4,4,2,4,4,4,5,1,4,4,5,5,3,4,4,5,5,1,5,3,3,4,3,5,4,4,5,5,4,3,3,5,5,1,5,5,5,5,5,5,5,5,5,3,5,5,5,5,5,5,5,5,5,4,5,5,4,4,5,5,5,4,5,5,5,4,4,4,3,1,3,4,4,5,4,5,5,5,5,2,5,5,4,4,3,5,5,5,4,5,5,5,5,4,5,3,3,4,5,4,4,4,5,4,4,4,3,4,3,5,4,4,4,2,1,4,5,5,5,5,4,4,1,3,2,5,5,3,4,5,2,4,5,3,4,4,3,5,5,5,5,5,4,4,4,4,3,4,3,5,5,5,4,5,5,5,5,4,5,3,5,4,5,3,5,4,5,3,5,5,5,4,4,4,4,5,1,4,5,1,3,3,5,5,4,4,5,5,5,3,3,2,4,5,4,4,4,5,5,4,3,1,5,4,5,4,5,4,5,5,5,3,4,5,5,5,4,3,3,5,3,3,3,5,4,3,1,5,5,5,5,4,5,4,4,4,4,3,4,4,3,4,5,5,3,4,4,4,4,3,4,5,4,3,2,3,4,3,2,4,3,5,2,1,5,1,1,2,3,3,3,1,4,3,1,3,3,2,4,4,2,4,4,4,4,2,1,1,4,3,4,4,1,3,4,1,2,5,2,3,1,5,1,1,3,3,3,2,1,5,4,3,3,3,3,2,1,1,4,4,3,4,2,2,5,3,1,3,4,2,2,5,4,4,2,3,5,1,3,3,3,4,5,5,5,5,4,5,5,4,5,5,5,5,5,4,4,5,5,1,5,4,5,5,4,5,5,5,5,4,5,4,5,5,5,5,5,5,5,5,4,5,5,4,5,5,5,1,5,5,5,5,4,5,5,4,2,5,5,5,5,2,3,5,5,4,5,4,2,3,4,4,3,2,5,3,5,4,5,1,1,4,3,4,3,4,4,1,5,5,4,4,4,5,5,4,4,4,3,5,4,4,5,4,4,4,5,1,5,1,5,3,4,5,4,5,4,5,5,1,5,1,5,5,1,4,3,3,3,5,4,1,2,4,3,5,4,4,5,4,5],&quot;bins&quot;:5}\" data-images=\"null\" data-options=\"{&quot;width&quot;:600,&quot;zoom&quot;:false,&quot;description&quot;:null,&quot;height&quot;:null}\" id=\"viz-ac53e309-50df-4011-887c-b5d684437235\" data-initialized=\"false\" class=\"feed-item\"></div></div></div></div><script>window.lightning = window.lightning || {};\n",
       "window.lightning.host = \"http://public.lightning-viz.org/\" || 'http://127.0.0.1:3000/';\n",
       "window.lightning.vizCount = (window.lightning.vizCount + 1) || 1;\n",
       "window.lightning.requiredVizTypes = window.lightning.requiredVizTypes || [];\n",
       "if(window.lightning.requiredVizTypes.indexOf(\"histogram\") === -1) {\n",
       "    window.lightning.requiredVizTypes.push(\"histogram\");\n",
       "}\n",
       "window._require = window.require;\n",
       "window.require = undefined;\n",
       "window._define = window.define;\n",
       "window.define = undefined;</script><script src=\"http://public.lightning-viz.org/js/embed.js\"></script>"
      ],
      "text/plain": [
       "<lightning.types.plots.Histogram at 0x114bc9a10>"
      ]
     },
     "execution_count": 6,
     "metadata": {},
     "output_type": "execute_result"
    }
   ],
   "source": [
    "from lightning import Lightning\n",
    "lgn = Lightning(ipython=True, host='http://public.lightning-viz.org')\n",
    "#lgn = Lightning(ipython=True, local=True)\n",
    "lgn.histogram(values, 5, zoom=False)"
   ]
  },
  {
   "cell_type": "markdown",
   "metadata": {},
   "source": [
    "## Tiempos de ejecución\n",
    "\n",
    "Los tiempos de ejecución son los siguientes:\n",
    "\n",
    "*10k: "
   ]
  }
 ],
 "metadata": {
  "kernelspec": {
   "display_name": "Python 2",
   "language": "python",
   "name": "python2"
  },
  "language_info": {
   "codemirror_mode": {
    "name": "ipython",
    "version": 2
   },
   "file_extension": ".py",
   "mimetype": "text/x-python",
   "name": "python",
   "nbconvert_exporter": "python",
   "pygments_lexer": "ipython2",
   "version": "2.7.13"
  }
 },
 "nbformat": 4,
 "nbformat_minor": 2
}
